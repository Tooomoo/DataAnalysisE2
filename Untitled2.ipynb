{
 "cells": [
  {
   "cell_type": "markdown",
   "id": "3c3f9c50-3b83-49a0-8ee9-70a2351de51a",
   "metadata": {},
   "source": [
    "# Assn3 create repository"
   ]
  },
  {
   "cell_type": "code",
   "execution_count": 1,
   "id": "db1b405f-48c5-4526-bfd7-2e68cffae249",
   "metadata": {},
   "outputs": [
    {
     "name": "stdout",
     "output_type": "stream",
     "text": [
      "x\n"
     ]
    }
   ],
   "source": [
    "print('x')"
   ]
  },
  {
   "cell_type": "code",
   "execution_count": null,
   "id": "4a8d8287-fd6c-47b4-9165-647164c21407",
   "metadata": {},
   "outputs": [],
   "source": []
  }
 ],
 "metadata": {
  "kernelspec": {
   "display_name": "Python [conda env:base] *",
   "language": "python",
   "name": "conda-base-py"
  },
  "language_info": {
   "codemirror_mode": {
    "name": "ipython",
    "version": 3
   },
   "file_extension": ".py",
   "mimetype": "text/x-python",
   "name": "python",
   "nbconvert_exporter": "python",
   "pygments_lexer": "ipython3",
   "version": "3.13.5"
  }
 },
 "nbformat": 4,
 "nbformat_minor": 5
}
