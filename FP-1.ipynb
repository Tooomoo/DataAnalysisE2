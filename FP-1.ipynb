{
 "cells": [
  {
   "cell_type": "markdown",
   "metadata": {},
   "source": [
    "___\n",
    "\n",
    "# <span style=\"color:blue\">{PM2.5 and weather conditions}</span>\n",
    "\n",
    "\n",
    "### Overview:\n",
    "\n",
    "* **Name**:  <span style=\"color:black\">{Tomotaka Nishio}</span>\n",
    "* **Student number**:  <span style=\"color:black\">{1122375994}</span>\n",
    "\n",
    "<br>"
   ]
  },
  {
   "cell_type": "markdown",
   "metadata": {},
   "source": [
    "### Purpose:\n",
    "\n",
    "* <span style=\"color:black\">{The purpose of this final project is to know how much influence each weather condition has on PM2.5 in some Chinese cities. }</span>\n",
    "* <span style=\"color:black\">{Identify key **dependent** variable(s) (DVs) is concentration of P.M2.5 measured once an hour during a 5-year period and the unit is μg/m³.}</span>\n",
    "* <span style=\"color:black\">{Identify key **independent** variable(s) (IVs) is dew point temperature, humidity, surface pressure, temperature, cdwd, lws, precipitation and lprec and I am likely to focus on the first four and precipitation.}</span>\n",
    "* <span style=\"color:black\">{The IVs are measured about 50000 times at each city and the DV is measured as often as IVs in several spots of each city. Although there is a lot of missing data, it seems that about half of data are valid, which are mainly in the latter part of the period.}</span>\n",
    "* <span style=\"color:black\">{Use approximately 2-5 sentences as separate points.}</span>\n",
    "\n",
    "* I have not decided whether I focus on one city or more and if I use data as a daily or hourly data. \n",
    "\n",
    "<br>"
   ]
  },
  {
   "cell_type": "markdown",
   "metadata": {
    "jp-MarkdownHeadingCollapsed": true
   },
   "source": [
    "### Dataset source:\n",
    "\n",
    "<span style=\"color:black\">{The data come from the [PM2.5 Data of Five Chinese Cities](https://archive.ics.uci.edu/dataset/394/pm2+5+data+of+five+chinese+cities) dataset from the [UCI Machine Learning repository](https://archive.ics.uci.edu/ml/index.php):\n",
    "}</span>\n",
    "\n",
    "<span style=\"color:black\">{If the dataset has been published, provide relevant reference(s). I have found no citation}</span>\n",
    "\n",
    "<span style=\"color:black\">{Do <b>NOT</b> use datasets from any Python package including `numpy`, `scipy`, `matplotlib`, `sklearn`, `pandas`, etc.}</span>\n",
    "\n",
    "<span style=\"color:black\">{Do <b>NOT</b> use datasets from websites that require registration (paid or free). The dataset(s) must be downloadable from the internet for free, without any registration required.}</span>\n",
    "\n",
    "<br>\n",
    "<br>\n",
    "<br>\n",
    "<br>"
   ]
  }
 ],
 "metadata": {
  "kernelspec": {
   "display_name": "Python [conda env:base] *",
   "language": "python",
   "name": "conda-base-py"
  },
  "language_info": {
   "codemirror_mode": {
    "name": "ipython",
    "version": 3
   },
   "file_extension": ".py",
   "mimetype": "text/x-python",
   "name": "python",
   "nbconvert_exporter": "python",
   "pygments_lexer": "ipython3",
   "version": "3.13.5"
  }
 },
 "nbformat": 4,
 "nbformat_minor": 4
}
